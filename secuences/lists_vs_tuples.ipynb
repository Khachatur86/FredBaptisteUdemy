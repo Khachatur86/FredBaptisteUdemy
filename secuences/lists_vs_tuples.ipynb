{
 "cells": [
  {
   "cell_type": "code",
   "execution_count": 7,
   "metadata": {},
   "outputs": [],
   "source": [
    "from dis import dis"
   ]
  },
  {
   "cell_type": "code",
   "execution_count": 3,
   "metadata": {},
   "outputs": [
    {
     "data": {
      "text/plain": [
       "[1, 2, 3]"
      ]
     },
     "execution_count": 3,
     "metadata": {},
     "output_type": "execute_result"
    }
   ],
   "source": [
    "[1, 2, 3]"
   ]
  },
  {
   "cell_type": "code",
   "execution_count": 4,
   "metadata": {},
   "outputs": [
    {
     "data": {
      "text/plain": [
       "(1, 2, 3)"
      ]
     },
     "execution_count": 4,
     "metadata": {},
     "output_type": "execute_result"
    }
   ],
   "source": [
    "1, 2, 3"
   ]
  },
  {
   "cell_type": "code",
   "execution_count": 5,
   "metadata": {},
   "outputs": [
    {
     "data": {
      "text/plain": [
       "<code object <module> at 0x10bb2d390, file \"string\", line 1>"
      ]
     },
     "execution_count": 5,
     "metadata": {},
     "output_type": "execute_result"
    }
   ],
   "source": [
    "compile(\"(1, 2, 3, 'a')\", \"string\", \"eval\")"
   ]
  },
  {
   "cell_type": "code",
   "execution_count": 10,
   "metadata": {
    "collapsed": false
   },
   "outputs": [
    {
     "name": "stdout",
     "output_type": "stream",
     "text": [
      "  1           0 LOAD_CONST               4 ((1, 2, 3, 'a'))\n              2 RETURN_VALUE\n"
     ]
    }
   ],
   "source": [
    "dis(compile(\"(1, 2, 3, 'a')\", \"string\", \"eval\"))"
   ]
  },
  {
   "cell_type": "code",
   "execution_count": 20,
   "metadata": {},
   "outputs": [
    {
     "name": "stdout",
     "output_type": "stream",
     "text": [
      "  1           0 LOAD_CONST               0 (1)\n              2 LOAD_CONST               1 (2)\n              4 LOAD_CONST               2 (3)\n              6 LOAD_CONST               3 ('a')\n              8 BUILD_LIST               4\n             10 RETURN_VALUE\n"
     ]
    }
   ],
   "source": [
    "\n",
    "dis(compile(\"[1, 2, 3, 'a']\", \"string\", \"eval\"))"
   ]
  },
  {
   "cell_type": "code",
   "execution_count": 21,
   "metadata": {},
   "outputs": [
    {
     "name": "stdout",
     "output_type": "stream",
     "text": [
      "  1           0 LOAD_CONST               0 (1)\n              2 LOAD_CONST               1 (2)\n              4 LOAD_CONST               2 (3)\n              6 LOAD_CONST               0 (1)\n              8 LOAD_CONST               2 (3)\n             10 BUILD_LIST               2\n             12 BUILD_TUPLE              4\n             14 RETURN_VALUE\n"
     ]
    }
   ],
   "source": [
    "dis(compile(\"(1, 2, 3, [1, 3])\", \"string\", \"eval\"))"
   ]
  },
  {
   "cell_type": "code",
   "execution_count": 33,
   "metadata": {},
   "outputs": [],
   "source": [
    "from timeit import timeit"
   ]
  },
  {
   "cell_type": "code",
   "execution_count": 38,
   "metadata": {},
   "outputs": [
    {
     "data": {
      "text/plain": [
       "0.33908398397034034"
      ]
     },
     "execution_count": 38,
     "metadata": {},
     "output_type": "execute_result"
    }
   ],
   "source": [
    "timeit(\"(1, 2, 3, 4, 5)\", number=10_000_000)"
   ]
  },
  {
   "cell_type": "code",
   "execution_count": 39,
   "metadata": {},
   "outputs": [
    {
     "data": {
      "text/plain": [
       "0.9704343309858814"
      ]
     },
     "execution_count": 39,
     "metadata": {},
     "output_type": "execute_result"
    }
   ],
   "source": [
    "timeit(\"[1, 2, 3, 4, 5]\", number=10_000_000)"
   ]
  },
  {
   "cell_type": "code",
   "execution_count": 40,
   "metadata": {},
   "outputs": [],
   "source": [
    "def fn1():\n",
    "    pass"
   ]
  },
  {
   "cell_type": "code",
   "execution_count": 42,
   "metadata": {},
   "outputs": [
    {
     "name": "stdout",
     "output_type": "stream",
     "text": [
      "  1           0 LOAD_NAME                0 (fn1)\n              2 LOAD_CONST               0 (10)\n              4 LOAD_CONST               1 (20)\n              6 BUILD_TUPLE              3\n              8 RETURN_VALUE\n"
     ]
    }
   ],
   "source": [
    "dis(compile(\"(fn1, 10, 20)\", \"string\", \"eval\"))"
   ]
  },
  {
   "cell_type": "code",
   "execution_count": 44,
   "metadata": {},
   "outputs": [
    {
     "name": "stdout",
     "output_type": "stream",
     "text": [
      "  1           0 LOAD_CONST               0 (1)\n              2 LOAD_CONST               1 (2)\n              4 LOAD_CONST               2 (3)\n              6 LOAD_CONST               3 (10)\n              8 LOAD_CONST               4 (20)\n             10 BUILD_LIST               2\n             12 BUILD_LIST               4\n             14 RETURN_VALUE\n"
     ]
    }
   ],
   "source": [
    "dis(compile(\"[1, 2, 3, [10, 20]]\", \"string\", \"eval\"))"
   ]
  },
  {
   "cell_type": "code",
   "execution_count": 45,
   "metadata": {},
   "outputs": [
    {
     "data": {
      "text/plain": [
       "0.12908691400662065"
      ]
     },
     "execution_count": 45,
     "metadata": {},
     "output_type": "execute_result"
    }
   ],
   "source": [
    "timeit(\"([1, 2], 10, 20)\", number=1_000_000)"
   ]
  },
  {
   "cell_type": "code",
   "execution_count": 46,
   "metadata": {},
   "outputs": [
    {
     "data": {
      "text/plain": [
       "0.1312594169867225"
      ]
     },
     "execution_count": 46,
     "metadata": {},
     "output_type": "execute_result"
    }
   ],
   "source": [
    "timeit(\"[[1, 2], 10, 20]\", number=1_000_000)"
   ]
  },
  {
   "cell_type": "code",
   "execution_count": 48,
   "metadata": {},
   "outputs": [],
   "source": [
    "l1 = [1, 2, 3, 4, 5, 6, 7, 8, 9]\n",
    "l2 = (1, 2, 3, 4, 5, 6, 7, 8, 9)"
   ]
  },
  {
   "cell_type": "code",
   "execution_count": 49,
   "metadata": {},
   "outputs": [
    {
     "data": {
      "text/plain": [
       "(4492318472, 4491040592)"
      ]
     },
     "execution_count": 49,
     "metadata": {},
     "output_type": "execute_result"
    }
   ],
   "source": [
    "id(l1), id(l2)"
   ]
  },
  {
   "cell_type": "code",
   "execution_count": 50,
   "metadata": {},
   "outputs": [],
   "source": [
    "l2 = list(l1)"
   ]
  },
  {
   "cell_type": "code",
   "execution_count": 51,
   "metadata": {},
   "outputs": [
    {
     "data": {
      "text/plain": [
       "(4492318472, 4492317640)"
      ]
     },
     "execution_count": 51,
     "metadata": {},
     "output_type": "execute_result"
    }
   ],
   "source": [
    "id(l1), id(l2)"
   ]
  },
  {
   "cell_type": "code",
   "execution_count": 53,
   "metadata": {},
   "outputs": [
    {
     "data": {
      "text/plain": [
       "4492176984"
      ]
     },
     "execution_count": 53,
     "metadata": {},
     "output_type": "execute_result"
    }
   ],
   "source": [
    "t1 = (1, 2, 3, 4, 5, 6, 7, 8, 9)\n",
    "id(t1)"
   ]
  },
  {
   "cell_type": "code",
   "execution_count": 54,
   "metadata": {},
   "outputs": [],
   "source": [
    "t2 = tuple(t1)"
   ]
  },
  {
   "cell_type": "code",
   "execution_count": 55,
   "metadata": {},
   "outputs": [
    {
     "data": {
      "text/plain": [
       "(4492176984, 4492176984)"
      ]
     },
     "execution_count": 55,
     "metadata": {},
     "output_type": "execute_result"
    }
   ],
   "source": [
    "id(t1), id(t2)"
   ]
  },
  {
   "cell_type": "code",
   "execution_count": 56,
   "metadata": {},
   "outputs": [
    {
     "data": {
      "text/plain": [
       "1.0549689040053636"
      ]
     },
     "execution_count": 56,
     "metadata": {},
     "output_type": "execute_result"
    }
   ],
   "source": [
    "timeit(\"tuple((1, 2, 3, 4, 5))\", number=5_000_000)"
   ]
  },
  {
   "cell_type": "code",
   "execution_count": 57,
   "metadata": {},
   "outputs": [
    {
     "data": {
      "text/plain": [
       "1.6094831530353986"
      ]
     },
     "execution_count": 57,
     "metadata": {},
     "output_type": "execute_result"
    }
   ],
   "source": [
    "timeit(\"list((1, 2, 3, 4, 5))\", number=5_000_000)"
   ]
  },
  {
   "cell_type": "code",
   "execution_count": 58,
   "metadata": {},
   "outputs": [
    {
     "data": {
      "text/plain": [
       "2.0305239720037207"
      ]
     },
     "execution_count": 58,
     "metadata": {},
     "output_type": "execute_result"
    }
   ],
   "source": [
    "timeit(\"list([1, 2, 3, 4, 5])\", number=5_000_000)"
   ]
  },
  {
   "cell_type": "heading",
   "metadata": {},
   "level": 1,
   "source": [
    "Storage efficiency"
   ]
  },
  {
   "cell_type": "code",
   "execution_count": 65,
   "metadata": {},
   "outputs": [
    {
     "name": "stdout",
     "output_type": "stream",
     "text": [
      "1 items: 56, delta=8\n2 items: 64, delta=8\n3 items: 72, delta=8\n4 items: 80, delta=8\n5 items: 88, delta=8\n6 items: 96, delta=8\n7 items: 104, delta=8\n8 items: 112, delta=8\n9 items: 120, delta=8\n10 items: 128, delta=8\n"
     ]
    }
   ],
   "source": [
    "import sys\n",
    "t = tuple()\n",
    "prev = sys.getsizeof(t)\n",
    "for i in range(10):\n",
    "    c = tuple(range(i+1))\n",
    "    size_c = sys.getsizeof(c)\n",
    "    delta, prev = size_c - prev, size_c\n",
    "    print(f\"{i+1} items: {size_c}, delta={delta}\")"
   ]
  },
  {
   "cell_type": "code",
   "execution_count": 66,
   "metadata": {},
   "outputs": [
    {
     "name": "stdout",
     "output_type": "stream",
     "text": [
      "1 items: 96, delta=32\n2 items: 104, delta=8\n3 items: 112, delta=8\n4 items: 120, delta=8\n5 items: 128, delta=8\n6 items: 136, delta=8\n7 items: 144, delta=8\n8 items: 160, delta=16\n9 items: 192, delta=32\n10 items: 200, delta=8\n"
     ]
    }
   ],
   "source": [
    "l = list()\n",
    "prev = sys.getsizeof(l)\n",
    "for i in range(10):\n",
    "    c = list(range(i+1))\n",
    "    size_c = sys.getsizeof(c)\n",
    "    delta, prev = size_c - prev, size_c\n",
    "    print(f\"{i+1} items: {size_c}, delta={delta}\")"
   ]
  },
  {
   "cell_type": "code",
   "execution_count": 69,
   "metadata": {
    "collapsed": false
   },
   "outputs": [
    {
     "name": "stdout",
     "output_type": "stream",
     "text": [
      "0 items: 64\n1 items: 96, delta=32\n2 items: 96, delta=0\n3 items: 96, delta=0\n4 items: 96, delta=0\n5 items: 128, delta=32\n6 items: 128, delta=0\n7 items: 128, delta=0\n8 items: 128, delta=0\n9 items: 192, delta=64\n10 items: 192, delta=0\n11 items: 192, delta=0\n12 items: 192, delta=0\n13 items: 192, delta=0\n14 items: 192, delta=0\n15 items: 192, delta=0\n16 items: 192, delta=0\n17 items: 264, delta=72\n18 items: 264, delta=0\n19 items: 264, delta=0\n20 items: 264, delta=0\n21 items: 264, delta=0\n22 items: 264, delta=0\n23 items: 264, delta=0\n24 items: 264, delta=0\n25 items: 264, delta=0\n26 items: 344, delta=80\n27 items: 344, delta=0\n28 items: 344, delta=0\n29 items: 344, delta=0\n30 items: 344, delta=0\n31 items: 344, delta=0\n32 items: 344, delta=0\n33 items: 344, delta=0\n34 items: 344, delta=0\n35 items: 344, delta=0\n36 items: 432, delta=88\n37 items: 432, delta=0\n38 items: 432, delta=0\n39 items: 432, delta=0\n40 items: 432, delta=0\n41 items: 432, delta=0\n42 items: 432, delta=0\n43 items: 432, delta=0\n44 items: 432, delta=0\n45 items: 432, delta=0\n46 items: 432, delta=0\n47 items: 528, delta=96\n48 items: 528, delta=0\n49 items: 528, delta=0\n50 items: 528, delta=0\n51 items: 528, delta=0\n52 items: 528, delta=0\n53 items: 528, delta=0\n54 items: 528, delta=0\n55 items: 528, delta=0\n56 items: 528, delta=0\n57 items: 528, delta=0\n58 items: 528, delta=0\n59 items: 640, delta=112\n60 items: 640, delta=0\n61 items: 640, delta=0\n62 items: 640, delta=0\n63 items: 640, delta=0\n64 items: 640, delta=0\n65 items: 640, delta=0\n66 items: 640, delta=0\n67 items: 640, delta=0\n68 items: 640, delta=0\n69 items: 640, delta=0\n70 items: 640, delta=0\n71 items: 640, delta=0\n72 items: 640, delta=0\n73 items: 768, delta=128\n74 items: 768, delta=0\n75 items: 768, delta=0\n76 items: 768, delta=0\n77 items: 768, delta=0\n78 items: 768, delta=0\n79 items: 768, delta=0\n80 items: 768, delta=0\n81 items: 768, delta=0\n82 items: 768, delta=0\n83 items: 768, delta=0\n84 items: 768, delta=0\n85 items: 768, delta=0\n86 items: 768, delta=0\n87 items: 768, delta=0\n88 items: 768, delta=0\n89 items: 912, delta=144\n90 items: 912, delta=0\n91 items: 912, delta=0\n92 items: 912, delta=0\n93 items: 912, delta=0\n94 items: 912, delta=0\n95 items: 912, delta=0\n96 items: 912, delta=0\n97 items: 912, delta=0\n98 items: 912, delta=0\n99 items: 912, delta=0\n100 items: 912, delta=0\n101 items: 912, delta=0\n102 items: 912, delta=0\n103 items: 912, delta=0\n104 items: 912, delta=0\n105 items: 912, delta=0\n106 items: 912, delta=0\n107 items: 1072, delta=160\n108 items: 1072, delta=0\n109 items: 1072, delta=0\n110 items: 1072, delta=0\n111 items: 1072, delta=0\n112 items: 1072, delta=0\n113 items: 1072, delta=0\n114 items: 1072, delta=0\n115 items: 1072, delta=0\n116 items: 1072, delta=0\n117 items: 1072, delta=0\n118 items: 1072, delta=0\n119 items: 1072, delta=0\n120 items: 1072, delta=0\n121 items: 1072, delta=0\n122 items: 1072, delta=0\n123 items: 1072, delta=0\n124 items: 1072, delta=0\n125 items: 1072, delta=0\n126 items: 1072, delta=0\n127 items: 1248, delta=176\n128 items: 1248, delta=0\n129 items: 1248, delta=0\n130 items: 1248, delta=0\n131 items: 1248, delta=0\n132 items: 1248, delta=0\n133 items: 1248, delta=0\n134 items: 1248, delta=0\n135 items: 1248, delta=0\n136 items: 1248, delta=0\n137 items: 1248, delta=0\n138 items: 1248, delta=0\n139 items: 1248, delta=0\n140 items: 1248, delta=0\n141 items: 1248, delta=0\n142 items: 1248, delta=0\n143 items: 1248, delta=0\n144 items: 1248, delta=0\n145 items: 1248, delta=0\n146 items: 1248, delta=0\n147 items: 1248, delta=0\n148 items: 1248, delta=0\n149 items: 1448, delta=200\n150 items: 1448, delta=0\n151 items: 1448, delta=0\n152 items: 1448, delta=0\n153 items: 1448, delta=0\n154 items: 1448, delta=0\n155 items: 1448, delta=0\n156 items: 1448, delta=0\n157 items: 1448, delta=0\n158 items: 1448, delta=0\n159 items: 1448, delta=0\n160 items: 1448, delta=0\n161 items: 1448, delta=0\n162 items: 1448, delta=0\n163 items: 1448, delta=0\n164 items: 1448, delta=0\n165 items: 1448, delta=0\n166 items: 1448, delta=0\n167 items: 1448, delta=0\n168 items: 1448, delta=0\n169 items: 1448, delta=0\n170 items: 1448, delta=0\n171 items: 1448, delta=0\n172 items: 1448, delta=0\n173 items: 1448, delta=0\n174 items: 1672, delta=224\n175 items: 1672, delta=0\n176 items: 1672, delta=0\n177 items: 1672, delta=0\n178 items: 1672, delta=0\n179 items: 1672, delta=0\n180 items: 1672, delta=0\n181 items: 1672, delta=0\n182 items: 1672, delta=0\n183 items: 1672, delta=0\n184 items: 1672, delta=0\n185 items: 1672, delta=0\n186 items: 1672, delta=0\n187 items: 1672, delta=0\n188 items: 1672, delta=0\n189 items: 1672, delta=0\n190 items: 1672, delta=0\n191 items: 1672, delta=0\n192 items: 1672, delta=0\n193 items: 1672, delta=0\n194 items: 1672, delta=0\n195 items: 1672, delta=0\n196 items: 1672, delta=0\n197 items: 1672, delta=0\n198 items: 1672, delta=0\n199 items: 1672, delta=0\n200 items: 1672, delta=0\n201 items: 1672, delta=0\n202 items: 1928, delta=256\n203 items: 1928, delta=0\n204 items: 1928, delta=0\n205 items: 1928, delta=0\n206 items: 1928, delta=0\n207 items: 1928, delta=0\n208 items: 1928, delta=0\n209 items: 1928, delta=0\n210 items: 1928, delta=0\n211 items: 1928, delta=0\n212 items: 1928, delta=0\n213 items: 1928, delta=0\n214 items: 1928, delta=0\n215 items: 1928, delta=0\n216 items: 1928, delta=0\n217 items: 1928, delta=0\n218 items: 1928, delta=0\n219 items: 1928, delta=0\n220 items: 1928, delta=0\n221 items: 1928, delta=0\n222 items: 1928, delta=0\n223 items: 1928, delta=0\n224 items: 1928, delta=0\n225 items: 1928, delta=0\n226 items: 1928, delta=0\n227 items: 1928, delta=0\n228 items: 1928, delta=0\n229 items: 1928, delta=0\n230 items: 1928, delta=0\n231 items: 1928, delta=0\n232 items: 1928, delta=0\n233 items: 1928, delta=0\n234 items: 2216, delta=288\n235 items: 2216, delta=0\n236 items: 2216, delta=0\n237 items: 2216, delta=0\n238 items: 2216, delta=0\n239 items: 2216, delta=0\n240 items: 2216, delta=0\n241 items: 2216, delta=0\n242 items: 2216, delta=0\n243 items: 2216, delta=0\n244 items: 2216, delta=0\n245 items: 2216, delta=0\n246 items: 2216, delta=0\n247 items: 2216, delta=0\n248 items: 2216, delta=0\n249 items: 2216, delta=0\n250 items: 2216, delta=0\n251 items: 2216, delta=0\n252 items: 2216, delta=0\n253 items: 2216, delta=0\n254 items: 2216, delta=0\n255 items: 2216, delta=0\n"
     ]
    }
   ],
   "source": [
    "c = list()\n",
    "prev = sys.getsizeof(l)\n",
    "print(f\"0 items: {prev}\")\n",
    "for i in range(255):\n",
    "    c.append(i)\n",
    "    size_c = sys.getsizeof(c)\n",
    "    delta, prev = size_c - prev, size_c\n",
    "    print(f\"{i+1} items: {size_c}, delta={delta}\")"
   ]
  },
  {
   "cell_type": "code",
   "execution_count": 70,
   "metadata": {},
   "outputs": [],
   "source": [
    "t = tuple(range(100_000))\n",
    "l = list(t)"
   ]
  },
  {
   "cell_type": "code",
   "execution_count": 74,
   "metadata": {},
   "outputs": [
    {
     "data": {
      "text/plain": [
       "1.3468242919771"
      ]
     },
     "execution_count": 74,
     "metadata": {},
     "output_type": "execute_result"
    }
   ],
   "source": [
    "timeit(\"t[99_999]\", globals=globals(), number=10_000_000)"
   ]
  },
  {
   "cell_type": "code",
   "execution_count": 75,
   "metadata": {},
   "outputs": [
    {
     "data": {
      "text/plain": [
       "0.7928500039852224"
      ]
     },
     "execution_count": 75,
     "metadata": {},
     "output_type": "execute_result"
    }
   ],
   "source": [
    "timeit(\"l[99_999]\", globals=globals(), number=10_000_000)"
   ]
  },
  {
   "cell_type": "code",
   "execution_count": 82,
   "metadata": {},
   "outputs": [
    {
     "name": "stdout",
     "output_type": "stream",
     "text": [
      "True\nTrue\n"
     ]
    }
   ],
   "source": [
    "t = (1, 2)\n",
    "t1 = t[:]\n",
    "t2 = tuple(t1)\n",
    "print(t is t1)\n",
    "print(t1 is t2)"
   ]
  },
  {
   "cell_type": "code",
   "execution_count": 90,
   "metadata": {
    "collapsed": false
   },
   "outputs": [
    {
     "name": "stdout",
     "output_type": "stream",
     "text": [
      "False\n"
     ]
    }
   ],
   "source": [
    "a = [10, 20]\n",
    "b = [a, 30]\n",
    "a.append(b)\n",
    "print(a is b)"
   ]
  },
  {
   "cell_type": "code",
   "execution_count": 89,
   "metadata": {},
   "outputs": [],
   "source": []
  },
  {
   "cell_type": "code",
   "execution_count": null,
   "metadata": {},
   "outputs": [],
   "source": []
  }
 ],
 "metadata": {
  "kernelspec": {
   "display_name": "Python 2",
   "language": "python",
   "name": "python2"
  },
  "language_info": {
   "codemirror_mode": {
    "name": "ipython",
    "version": 2
   },
   "file_extension": ".py",
   "mimetype": "text/x-python",
   "name": "python",
   "nbconvert_exporter": "python",
   "pygments_lexer": "ipython2",
   "version": "2.7.6"
  }
 },
 "nbformat": 4,
 "nbformat_minor": 0
}
