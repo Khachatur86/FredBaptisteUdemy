{
 "cells": [
  {
   "cell_type": "code",
   "execution_count": 22,
   "metadata": {
    "collapsed": true
   },
   "outputs": [
    {
     "name": "stdout",
     "output_type": "stream",
     "text": [
      "ACURA:6\nALFA ROMEO:2\nAPRILIA:4\nARCTIC CAT:96\nARGO:4\nASTON MARTIN:5\nAUDI:27\nBENTLEY:2\nBLUE BIRD:1\nBMW:86\nBUGATTI:1\nBUICK:5\nCADILLAC:7\nCAN-AM:61\nCHEVROLET:33\nCHRYSLER:2\nDODGE:7\nDUCATI:4\nFERRARI:6\nFIAT:2\nFORD:34\nFREIGHTLINER:7\nGMC:12\nHARLEY DAVIDSON:29\nHINO:7\nHONDA:91\nHUSABERG:4\nHUSQVARNA:9\nHYUNDAI:13\nINDIAN:3\nINFINITI:8\nJAGUAR:9\nJEEP:5\nJOHN DEERE:19\nKAWASAKI:59\nKENWORTH:11\nKIA:10\nKTM:13\nKUBOTA:4\nKYMCO:28\nLAMBORGHINI:2\nLAND ROVER:6\nLEXUS:14\nLINCOLN:6\nLOTUS:1\nMACK:9\nMASERATI:3\nMAZDA:5\nMCLAREN:2\nMERCEDES-BENZ:60\nMINI:3\nMITSUBISHI:8\nNISSAN:24\nPEUGEOT:3\nPOLARIS:101\nPORSCHE:4\nRAM:6\nRENAULT:4\nROLLS ROYCE:3\nSCION:5\nSEAT:3\nSKI-DOO:67\nSMART:1\nSRT:1\nSUBARU:10\nSUZUKI:48\nTESLA:2\nTOYOTA:19\nTRIUMPH:10\nVESPA:4\nVICTORY:14\nVOLKSWAGEN:16\nVOLVO:8\nYAMAHA:110\n"
     ]
    }
   ],
   "source": [
    "file_path = '/Users/Khachatur/Desktop/playground/' \\\n",
    "            'iteration_tools/grouping/cars_2014.csv'\n",
    "import itertools \n",
    "# with open(file_path) as f:\n",
    "#     next(f)\n",
    "#     for row in itertools.islice(f, 0, 25):\n",
    "#         print(row, end=\"\")\n",
    "\n",
    "\n",
    "from collections import defaultdict\n",
    "makes = defaultdict(int)\n",
    "\n",
    "with open(file_path) as f:\n",
    "  next(f)\n",
    "  for row in f:\n",
    "    make, _ = row.strip(\"\\n\").split(',')\n",
    "    makes[make] += 1\n",
    "\n",
    "for key, value in makes.items():\n",
    "  print(f'{key}:{value}')"
   ]
  },
  {
   "cell_type": "code",
   "execution_count": 29,
   "metadata": {},
   "outputs": [],
   "source": [
    "data = (1, 2, 2, 2, 3)"
   ]
  },
  {
   "cell_type": "code",
   "execution_count": 30,
   "metadata": {},
   "outputs": [
    {
     "data": {
      "text/plain": [
       "[(1, <itertools._grouper at 0x1074b08d0>),\n (2, <itertools._grouper at 0x1074b0518>),\n (3, <itertools._grouper at 0x1074b04a8>)]"
      ]
     },
     "execution_count": 30,
     "metadata": {},
     "output_type": "execute_result"
    }
   ],
   "source": [
    "list(itertools.groupby(data))"
   ]
  },
  {
   "cell_type": "code",
   "execution_count": 31,
   "metadata": {},
   "outputs": [
    {
     "name": "stdout",
     "output_type": "stream",
     "text": [
      "1 [1]\n2 [2, 2, 2]\n3 [3]\n"
     ]
    }
   ],
   "source": [
    "it = itertools.groupby(data)\n",
    "for group in it:\n",
    "    print(group[0], list(group[1]))"
   ]
  },
  {
   "cell_type": "code",
   "execution_count": 32,
   "metadata": {},
   "outputs": [
    {
     "data": {
      "text/plain": [
       "((1, 'abc'), (1, 'bcd'), (2, 'pyt'), (2, 'yth'), (2, 'tho'), (3, 'hon'))"
      ]
     },
     "execution_count": 32,
     "metadata": {},
     "output_type": "execute_result"
    }
   ],
   "source": [
    "data = (\n",
    "    (1, \"abc\"),\n",
    "    (1, \"bcd\"),\n",
    "    \n",
    "    (2, \"pyt\"),\n",
    "    (2, \"yth\"),\n",
    "    (2, \"tho\"),\n",
    "    \n",
    "    (3, \"hon\")\n",
    ")\n",
    "data"
   ]
  },
  {
   "cell_type": "code",
   "execution_count": 42,
   "metadata": {},
   "outputs": [
    {
     "data": {
      "text/plain": [
       "[(1, <itertools._grouper at 0x1074395f8>),\n (2, <itertools._grouper at 0x107439748>),\n (3, <itertools._grouper at 0x107439978>)]"
      ]
     },
     "execution_count": 42,
     "metadata": {},
     "output_type": "execute_result"
    }
   ],
   "source": [
    "groups = itertools.groupby(data, key=lambda x: x[0])\n",
    "list(groups)"
   ]
  },
  {
   "cell_type": "code",
   "execution_count": 43,
   "metadata": {},
   "outputs": [
    {
     "name": "stdout",
     "output_type": "stream",
     "text": [
      "1 [(1, 'abc'), (1, 'bcd')]\n2 [(2, 'pyt'), (2, 'yth'), (2, 'tho')]\n3 [(3, 'hon')]\n"
     ]
    }
   ],
   "source": [
    "groups = itertools.groupby(data, key=lambda x: x[0])\n",
    "for group_key, sub_iter in groups:\n",
    "    print(group_key, list(sub_iter))"
   ]
  },
  {
   "cell_type": "code",
   "execution_count": 60,
   "metadata": {},
   "outputs": [],
   "source": [
    "def gen_groups():\n",
    "    for key in range(1, 4):\n",
    "        for i in range(3):\n",
    "            yield (key, i)\n",
    "    "
   ]
  },
  {
   "cell_type": "code",
   "execution_count": 61,
   "metadata": {},
   "outputs": [],
   "source": [
    "g = gen_groups()\n"
   ]
  },
  {
   "cell_type": "code",
   "execution_count": 62,
   "metadata": {},
   "outputs": [],
   "source": [
    "groups = itertools.groupby(g, key=lambda x: x[0])"
   ]
  },
  {
   "cell_type": "code",
   "execution_count": 63,
   "metadata": {},
   "outputs": [
    {
     "name": "stdout",
     "output_type": "stream",
     "text": [
      "1 <itertools._grouper object at 0x1074a3550>\n2 <itertools._grouper object at 0x1074a35c0>\n3 <itertools._grouper object at 0x1074a3b00>\n"
     ]
    }
   ],
   "source": [
    "for group in groups:\n",
    "    print(group[0], group[1])"
   ]
  },
  {
   "cell_type": "code",
   "execution_count": 64,
   "metadata": {},
   "outputs": [
    {
     "data": {
      "text/plain": [
       "[]"
      ]
     },
     "execution_count": 64,
     "metadata": {},
     "output_type": "execute_result"
    }
   ],
   "source": [
    "list(g)"
   ]
  },
  {
   "cell_type": "code",
   "execution_count": 65,
   "metadata": {},
   "outputs": [
    {
     "data": {
      "text/plain": [
       "[]"
      ]
     },
     "execution_count": 65,
     "metadata": {},
     "output_type": "execute_result"
    }
   ],
   "source": [
    "list(groups)"
   ]
  },
  {
   "cell_type": "code",
   "execution_count": 80,
   "metadata": {},
   "outputs": [],
   "source": [
    "with open(file_path) as f:\n",
    "    make_groups = itertools.groupby(f, lambda x: x.split(\",\")[0])"
   ]
  },
  {
   "cell_type": "code",
   "execution_count": 81,
   "metadata": {},
   "outputs": [
    {
     "ename": "ValueError",
     "evalue": "I/O operation on closed file.",
     "traceback": [
      "\u001b[0;31m---------------------------------------------------------------------------\u001b[0m",
      "\u001b[0;31mValueError\u001b[0m                                Traceback (most recent call last)",
      "\u001b[0;32m<ipython-input-81-a86b46edd0f9>\u001b[0m in \u001b[0;36m<module>\u001b[0;34m()\u001b[0m\n\u001b[0;32m----> 1\u001b[0;31m \u001b[0mlist\u001b[0m\u001b[0;34m(\u001b[0m\u001b[0mmake_groups\u001b[0m\u001b[0;34m)\u001b[0m\u001b[0;34m\u001b[0m\u001b[0m\n\u001b[0m",
      "\u001b[0;31mValueError\u001b[0m: I/O operation on closed file."
     ],
     "output_type": "error"
    }
   ],
   "source": [
    "list(make_groups)"
   ]
  },
  {
   "cell_type": "code",
   "execution_count": 84,
   "metadata": {},
   "outputs": [
    {
     "name": "stdout",
     "output_type": "stream",
     "text": [
      "[('ACURA', <itertools._grouper object at 0x1074a3470>), ('ALFA ROMEO', <itertools._grouper object at 0x1074a3860>), ('APRILIA', <itertools._grouper object at 0x1074a3940>), ('ARCTIC CAT', <itertools._grouper object at 0x107439438>), ('ARGO', <itertools._grouper object at 0x107439ac8>)]\n"
     ]
    }
   ],
   "source": [
    "with open(file_path) as f:\n",
    "    next(f)\n",
    "    make_groups = itertools.groupby(f, lambda x: x.split(\",\")[0])\n",
    "    print(list(itertools.islice(make_groups, 5)))"
   ]
  },
  {
   "cell_type": "code",
   "execution_count": 89,
   "metadata": {},
   "outputs": [
    {
     "ename": "TypeError",
     "evalue": "object of type 'itertools._grouper' has no len()",
     "traceback": [
      "\u001b[0;31m---------------------------------------------------------------------------\u001b[0m",
      "\u001b[0;31mTypeError\u001b[0m                                 Traceback (most recent call last)",
      "\u001b[0;32m<ipython-input-89-f4cc95a419a7>\u001b[0m in \u001b[0;36m<module>\u001b[0;34m()\u001b[0m\n\u001b[1;32m      3\u001b[0m     \u001b[0mmake_groups\u001b[0m \u001b[0;34m=\u001b[0m \u001b[0mitertools\u001b[0m\u001b[0;34m.\u001b[0m\u001b[0mgroupby\u001b[0m\u001b[0;34m(\u001b[0m\u001b[0mf\u001b[0m\u001b[0;34m,\u001b[0m \u001b[0;32mlambda\u001b[0m \u001b[0mx\u001b[0m\u001b[0;34m:\u001b[0m \u001b[0mx\u001b[0m\u001b[0;34m.\u001b[0m\u001b[0msplit\u001b[0m\u001b[0;34m(\u001b[0m\u001b[0;34m\",\"\u001b[0m\u001b[0;34m)\u001b[0m\u001b[0;34m[\u001b[0m\u001b[0;36m0\u001b[0m\u001b[0;34m]\u001b[0m\u001b[0;34m)\u001b[0m\u001b[0;34m\u001b[0m\u001b[0m\n\u001b[1;32m      4\u001b[0m     \u001b[0mmake_counts\u001b[0m \u001b[0;34m=\u001b[0m \u001b[0;34m(\u001b[0m\u001b[0;34m(\u001b[0m\u001b[0mkey\u001b[0m\u001b[0;34m,\u001b[0m \u001b[0mlen\u001b[0m\u001b[0;34m(\u001b[0m\u001b[0mmodels\u001b[0m\u001b[0;34m)\u001b[0m\u001b[0;34m)\u001b[0m \u001b[0;32mfor\u001b[0m \u001b[0mkey\u001b[0m\u001b[0;34m,\u001b[0m \u001b[0mmodels\u001b[0m \u001b[0;32min\u001b[0m \u001b[0mmake_groups\u001b[0m\u001b[0;34m)\u001b[0m\u001b[0;34m\u001b[0m\u001b[0m\n\u001b[0;32m----> 5\u001b[0;31m     \u001b[0mprint\u001b[0m\u001b[0;34m(\u001b[0m\u001b[0mlist\u001b[0m\u001b[0;34m(\u001b[0m\u001b[0mmake_counts\u001b[0m\u001b[0;34m)\u001b[0m\u001b[0;34m)\u001b[0m\u001b[0;34m\u001b[0m\u001b[0m\n\u001b[0m\u001b[1;32m      6\u001b[0m \u001b[0;34m\u001b[0m\u001b[0m\n",
      "\u001b[0;32m<ipython-input-89-f4cc95a419a7>\u001b[0m in \u001b[0;36m<genexpr>\u001b[0;34m(.0)\u001b[0m\n\u001b[1;32m      2\u001b[0m     \u001b[0mnext\u001b[0m\u001b[0;34m(\u001b[0m\u001b[0mf\u001b[0m\u001b[0;34m)\u001b[0m\u001b[0;34m\u001b[0m\u001b[0m\n\u001b[1;32m      3\u001b[0m     \u001b[0mmake_groups\u001b[0m \u001b[0;34m=\u001b[0m \u001b[0mitertools\u001b[0m\u001b[0;34m.\u001b[0m\u001b[0mgroupby\u001b[0m\u001b[0;34m(\u001b[0m\u001b[0mf\u001b[0m\u001b[0;34m,\u001b[0m \u001b[0;32mlambda\u001b[0m \u001b[0mx\u001b[0m\u001b[0;34m:\u001b[0m \u001b[0mx\u001b[0m\u001b[0;34m.\u001b[0m\u001b[0msplit\u001b[0m\u001b[0;34m(\u001b[0m\u001b[0;34m\",\"\u001b[0m\u001b[0;34m)\u001b[0m\u001b[0;34m[\u001b[0m\u001b[0;36m0\u001b[0m\u001b[0;34m]\u001b[0m\u001b[0;34m)\u001b[0m\u001b[0;34m\u001b[0m\u001b[0m\n\u001b[0;32m----> 4\u001b[0;31m     \u001b[0mmake_counts\u001b[0m \u001b[0;34m=\u001b[0m \u001b[0;34m(\u001b[0m\u001b[0;34m(\u001b[0m\u001b[0mkey\u001b[0m\u001b[0;34m,\u001b[0m \u001b[0mlen\u001b[0m\u001b[0;34m(\u001b[0m\u001b[0mmodels\u001b[0m\u001b[0;34m)\u001b[0m\u001b[0;34m)\u001b[0m \u001b[0;32mfor\u001b[0m \u001b[0mkey\u001b[0m\u001b[0;34m,\u001b[0m \u001b[0mmodels\u001b[0m \u001b[0;32min\u001b[0m \u001b[0mmake_groups\u001b[0m\u001b[0;34m)\u001b[0m\u001b[0;34m\u001b[0m\u001b[0m\n\u001b[0m\u001b[1;32m      5\u001b[0m     \u001b[0mprint\u001b[0m\u001b[0;34m(\u001b[0m\u001b[0mlist\u001b[0m\u001b[0;34m(\u001b[0m\u001b[0mmake_counts\u001b[0m\u001b[0;34m)\u001b[0m\u001b[0;34m)\u001b[0m\u001b[0;34m\u001b[0m\u001b[0m\n\u001b[1;32m      6\u001b[0m \u001b[0;34m\u001b[0m\u001b[0m\n",
      "\u001b[0;31mTypeError\u001b[0m: object of type 'itertools._grouper' has no len()"
     ],
     "output_type": "error"
    }
   ],
   "source": [
    "with open(file_path) as f:\n",
    "    next(f)\n",
    "    make_groups = itertools.groupby(f, lambda x: x.split(\",\")[0])\n",
    "    make_counts = ((key, len(models)) for key, models in make_groups)\n",
    "    print(list(make_counts))\n",
    "    "
   ]
  },
  {
   "cell_type": "code",
   "execution_count": 104,
   "metadata": {
    "collapsed": false
   },
   "outputs": [
    {
     "name": "stdout",
     "output_type": "stream",
     "text": [
      "[('ACURA', 6), ('ALFA ROMEO', 2), ('APRILIA', 4), ('ARCTIC CAT', 96), ('ARGO', 4), ('ASTON MARTIN', 5), ('AUDI', 27), ('BENTLEY', 2), ('BLUE BIRD', 1), ('BMW', 86), ('BUGATTI', 1), ('BUICK', 5), ('CADILLAC', 7), ('CAN-AM', 61), ('CHEVROLET', 33), ('CHRYSLER', 2), ('DODGE', 7), ('DUCATI', 4), ('FERRARI', 6), ('FIAT', 2), ('FORD', 34), ('FREIGHTLINER', 7), ('GMC', 12), ('HARLEY DAVIDSON', 29), ('HINO', 7), ('HONDA', 91), ('HUSABERG', 4), ('HUSQVARNA', 9), ('HYUNDAI', 13), ('INDIAN', 3), ('INFINITI', 8), ('JAGUAR', 9), ('JEEP', 5), ('JOHN DEERE', 19), ('KAWASAKI', 59), ('KENWORTH', 11), ('KIA', 10), ('KTM', 13), ('KUBOTA', 4), ('KYMCO', 28), ('LAMBORGHINI', 2), ('LAND ROVER', 6), ('LEXUS', 14), ('LINCOLN', 6), ('LOTUS', 1), ('MACK', 9), ('MASERATI', 3), ('MAZDA', 5), ('MCLAREN', 2), ('MERCEDES-BENZ', 60), ('MINI', 3), ('MITSUBISHI', 8), ('NISSAN', 24), ('PEUGEOT', 3), ('POLARIS', 101), ('PORSCHE', 4), ('RAM', 6), ('RENAULT', 4), ('ROLLS ROYCE', 3), ('SCION', 5), ('SEAT', 3), ('SKI-DOO', 67), ('SMART', 1), ('SRT', 1), ('SUBARU', 10), ('SUZUKI', 48), ('TESLA', 2), ('TOYOTA', 19), ('TRIUMPH', 10), ('VESPA', 4), ('VICTORY', 14), ('VOLKSWAGEN', 16), ('VOLVO', 8), ('YAMAHA', 110)]\n"
     ]
    }
   ],
   "source": [
    "with open(file_path) as f:\n",
    "    next(f)\n",
    "    make_groups = itertools.groupby(f, lambda x: x.split(\",\")[0])\n",
    "    make_counts = ((key, sum(1 for model in models))\n",
    "                   for key, models in make_groups)\n",
    "    print(list(make_counts))"
   ]
  },
  {
   "cell_type": "code",
   "execution_count": 97,
   "metadata": {},
   "outputs": [],
   "source": []
  },
  {
   "cell_type": "code",
   "execution_count": null,
   "metadata": {},
   "outputs": [],
   "source": []
  }
 ],
 "metadata": {
  "kernelspec": {
   "display_name": "Python 2",
   "language": "python",
   "name": "python2"
  },
  "language_info": {
   "codemirror_mode": {
    "name": "ipython",
    "version": 2
   },
   "file_extension": ".py",
   "mimetype": "text/x-python",
   "name": "python",
   "nbconvert_exporter": "python",
   "pygments_lexer": "ipython2",
   "version": "2.7.6"
  }
 },
 "nbformat": 4,
 "nbformat_minor": 0
}
