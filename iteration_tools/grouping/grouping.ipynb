{
 "cells": [
  {
   "cell_type": "code",
   "execution_count": 22,
   "metadata": {
    "collapsed": true
   },
   "outputs": [
    {
     "name": "stdout",
     "output_type": "stream",
     "text": [
      "ACURA:6\nALFA ROMEO:2\nAPRILIA:4\nARCTIC CAT:96\nARGO:4\nASTON MARTIN:5\nAUDI:27\nBENTLEY:2\nBLUE BIRD:1\nBMW:86\nBUGATTI:1\nBUICK:5\nCADILLAC:7\nCAN-AM:61\nCHEVROLET:33\nCHRYSLER:2\nDODGE:7\nDUCATI:4\nFERRARI:6\nFIAT:2\nFORD:34\nFREIGHTLINER:7\nGMC:12\nHARLEY DAVIDSON:29\nHINO:7\nHONDA:91\nHUSABERG:4\nHUSQVARNA:9\nHYUNDAI:13\nINDIAN:3\nINFINITI:8\nJAGUAR:9\nJEEP:5\nJOHN DEERE:19\nKAWASAKI:59\nKENWORTH:11\nKIA:10\nKTM:13\nKUBOTA:4\nKYMCO:28\nLAMBORGHINI:2\nLAND ROVER:6\nLEXUS:14\nLINCOLN:6\nLOTUS:1\nMACK:9\nMASERATI:3\nMAZDA:5\nMCLAREN:2\nMERCEDES-BENZ:60\nMINI:3\nMITSUBISHI:8\nNISSAN:24\nPEUGEOT:3\nPOLARIS:101\nPORSCHE:4\nRAM:6\nRENAULT:4\nROLLS ROYCE:3\nSCION:5\nSEAT:3\nSKI-DOO:67\nSMART:1\nSRT:1\nSUBARU:10\nSUZUKI:48\nTESLA:2\nTOYOTA:19\nTRIUMPH:10\nVESPA:4\nVICTORY:14\nVOLKSWAGEN:16\nVOLVO:8\nYAMAHA:110\n"
     ]
    }
   ],
   "source": [
    "file_path = '/Users/Khachatur/Desktop/playground/' \\\n",
    "            'iteration_tools/grouping/cars_2014.csv'\n",
    "import itertools \n",
    "# with open(file_path) as f:\n",
    "#     next(f)\n",
    "#     for row in itertools.islice(f, 0, 25):\n",
    "#         print(row, end=\"\")\n",
    "\n",
    "\n",
    "from collections import defaultdict\n",
    "makes = defaultdict(int)\n",
    "\n",
    "with open(file_path) as f:\n",
    "  next(f)\n",
    "  for row in f:\n",
    "    make, _ = row.strip(\"\\n\").split(',')\n",
    "    makes[make] += 1\n",
    "\n",
    "for key, value in makes.items():\n",
    "  print(f'{key}:{value}')"
   ]
  },
  {
   "cell_type": "code",
   "execution_count": 29,
   "metadata": {},
   "outputs": [],
   "source": [
    "data = (1, 2, 2, 2, 3)"
   ]
  },
  {
   "cell_type": "code",
   "execution_count": 30,
   "metadata": {},
   "outputs": [
    {
     "data": {
      "text/plain": [
       "[(1, <itertools._grouper at 0x1074b08d0>),\n (2, <itertools._grouper at 0x1074b0518>),\n (3, <itertools._grouper at 0x1074b04a8>)]"
      ]
     },
     "execution_count": 30,
     "metadata": {},
     "output_type": "execute_result"
    }
   ],
   "source": [
    "list(itertools.groupby(data))"
   ]
  },
  {
   "cell_type": "code",
   "execution_count": 31,
   "metadata": {},
   "outputs": [
    {
     "name": "stdout",
     "output_type": "stream",
     "text": [
      "1 [1]\n2 [2, 2, 2]\n3 [3]\n"
     ]
    }
   ],
   "source": [
    "it = itertools.groupby(data)\n",
    "for group in it:\n",
    "    print(group[0], list(group[1]))"
   ]
  },
  {
   "cell_type": "code",
   "execution_count": 32,
   "metadata": {},
   "outputs": [
    {
     "data": {
      "text/plain": [
       "((1, 'abc'), (1, 'bcd'), (2, 'pyt'), (2, 'yth'), (2, 'tho'), (3, 'hon'))"
      ]
     },
     "execution_count": 32,
     "metadata": {},
     "output_type": "execute_result"
    }
   ],
   "source": [
    "data = (\n",
    "    (1, \"abc\"),\n",
    "    (1, \"bcd\"),\n",
    "    \n",
    "    (2, \"pyt\"),\n",
    "    (2, \"yth\"),\n",
    "    (2, \"tho\"),\n",
    "    \n",
    "    (3, \"hon\")\n",
    ")\n",
    "data"
   ]
  },
  {
   "cell_type": "code",
   "execution_count": 42,
   "metadata": {},
   "outputs": [
    {
     "data": {
      "text/plain": [
       "[(1, <itertools._grouper at 0x1074395f8>),\n (2, <itertools._grouper at 0x107439748>),\n (3, <itertools._grouper at 0x107439978>)]"
      ]
     },
     "execution_count": 42,
     "metadata": {},
     "output_type": "execute_result"
    }
   ],
   "source": [
    "groups = itertools.groupby(data, key=lambda x: x[0])\n",
    "list(groups)"
   ]
  },
  {
   "cell_type": "code",
   "execution_count": null,
   "metadata": {},
   "outputs": [],
   "source": [
    "groups = itertools.groupby(data, key=lambda x: x[0])\n",
    "for group_key, sub_iter in groups:\n",
    "    print(group_key, list(sub_iter))"
   ]
  },
  {
   "cell_type": "code",
   "execution_count": null,
   "metadata": {},
   "outputs": [],
   "source": []
  }
 ],
 "metadata": {
  "kernelspec": {
   "display_name": "Python 2",
   "language": "python",
   "name": "python2"
  },
  "language_info": {
   "codemirror_mode": {
    "name": "ipython",
    "version": 2
   },
   "file_extension": ".py",
   "mimetype": "text/x-python",
   "name": "python",
   "nbconvert_exporter": "python",
   "pygments_lexer": "ipython2",
   "version": "2.7.6"
  }
 },
 "nbformat": 4,
 "nbformat_minor": 0
}
